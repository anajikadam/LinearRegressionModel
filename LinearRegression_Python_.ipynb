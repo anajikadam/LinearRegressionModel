{
  "cells": [
    {
      "cell_type": "markdown",
      "metadata": {
        "id": "view-in-github",
        "colab_type": "text"
      },
      "source": [
        "<a href=\"https://colab.research.google.com/github/anajikadam/LinearRegressionModel/blob/main/LinearRegression_Python_.ipynb\" target=\"_parent\"><img src=\"https://colab.research.google.com/assets/colab-badge.svg\" alt=\"Open In Colab\"/></a>"
      ]
    },
    {
      "cell_type": "markdown",
      "metadata": {
        "id": "guRkhX25algW"
      },
      "source": [
        "# Simple Linear Regression\n"
      ]
    },
    {
      "cell_type": "markdown",
      "metadata": {
        "id": "-RZSMyM9algZ"
      },
      "source": [
        "###  Linear Regression\n",
        "\n",
        "\n",
        "Linear Regression is a statistical technique which is used to find the linear relationship between dependent and one or more independent variables. This technique is applicable for Supervised learning Regression problems where we try to predict a continuous variable.\n",
        "\n",
        "\n",
        "Linear Regression can be further classified into two types – Simple and Multiple Linear Regression. In this project, I employ Simple Linear Regression technique where I have one independent and one dependent variable. It is the simplest form of Linear Regression where we fit a straight line to the data."
      ]
    },
    {
      "cell_type": "markdown",
      "source": [
        "\n",
        "## Independent and Dependent Variables\n",
        "\n",
        "In this project, I refer Independent variable as Feature variable and Dependent variable as Target variable. These variables are also recognized by different names as follows: -\n",
        "\n",
        "\n",
        "### Independent variable\n",
        "\n",
        "Independent variable is also called Input variable and is denoted by X. In practical applications, independent variable is also called Feature variable or Predictor variable. We can denote it as: -\n",
        "Independent or Input variable (X) = Feature variable = Predictor variable\n",
        "\n",
        "\n",
        "### Dependent variable\n",
        "\n",
        "Dependent variable is also called Output variable and is denoted by y. Dependent variable is also called Target variable or Response variable. It can be denote it as follows: -\n",
        "\n",
        "Dependent or Output variable (y) = Target variable = Response variable\n",
        "\n"
      ],
      "metadata": {
        "id": "BbcpsKfdb3vo"
      }
    },
    {
      "cell_type": "markdown",
      "metadata": {
        "id": "hM3tF_HTalga"
      },
      "source": [
        "###  Simple Linear Regression (SLR)\n",
        "\n",
        "Simple Linear Regression (or SLR) is the simplest model in machine learning. It models the linear relationship between the independent and dependent variables.\n",
        "\n",
        "In this project, there is one independent or input variable which represents the Sales data and is denoted by X. Similarly, there is one dependent or output variable which represents the Advertising data and is denoted by y. We want to build a linear relationship between these variables. This linear relationship can be modelled by mathematical equation of the form:-\n",
        "\n",
        "                 \n",
        "                 Y = β0   + β1*X    -------------   (1)\n",
        "                 \n",
        "\n",
        "In this equation, X and Y are called independent and dependent variables respectively,\n",
        "\n",
        "β1 is the coefficient for independent variable and\n",
        "\n",
        "β0 is the constant term.\n",
        "\n",
        "β0 and β1 are called parameters of the model.\n",
        "\n",
        "\n",
        "\n",
        "For simplicity, we can compare the above equation with the basic line equation of the form:-\n",
        "\n",
        "                   y = ax + b       ----------------- (2)\n",
        "\n",
        "We can see that\n",
        "\n",
        "slope of the line is given by, a =  β1,  and\n",
        "\n",
        "intercept of the line by b =  β0.\n",
        "\n",
        "\n",
        "In this Simple Linear Regression model, we want to fit a line which estimates the linear relationship between X and Y. So, the question of fitting reduces to estimating the parameters of the model β0 and β1.\n",
        "\n",
        "\n",
        "\n",
        "## Ordinary Least Square Method\n",
        "\n",
        "As I have described earlier, the Sales and Advertising data are given by X and y respectively. We can draw a scatter plot between X and y which shows the relationship between them.\n",
        "\n",
        "\n",
        "\n",
        "Now, our task is to find a line which best fits this scatter plot. This line will help us to predict the value of any Target variable for any given Feature variable. This line is called **Regression line**.\n",
        "\n",
        "\n",
        "We can define an error function for any line. Then, the regression line is the one which minimizes the error function. Such an error function is also called a **Cost function**.\n",
        "\n",
        "\n",
        "## Cost Function\n",
        "\n",
        "We want the Regression line to resemble the dataset as closely as possible. In other words, we want the line to be as close to actual data points as possible. It can be achieved by minimizing the vertical distance between the actual data point and fitted line. I calculate the vertical distance between each data point and the line. This distance is called the **residual**.\n",
        "\n",
        "\n",
        "So, in a regression model, we try to minimize the residuals by finding the line of best fit. The residuals are represented by the vertical dotted lines from actual data points to the line.\n",
        "\n",
        "\n",
        "We can try to minimize the sum of the residuals, but then a large positive residual would cancel out a large negative residual. For this reason, we minimize the sum of the squares of the residuals.\n",
        "\n",
        "\n",
        "Mathematically, we denote actual data points by yi and predicted data points by ŷi. So, the residual for a data point i would be given as\n",
        "\n",
        "                di = yi -  ŷi\n",
        "\n",
        "Sum of the squares of the residuals is given as:\n",
        "\n",
        "\t\t\t\tD = Ʃ di**2       for all data points\n",
        "                \n",
        "\n",
        "This is the **Cost function**. It denotes the total error present in the model which is the sum of the total errors of each individual data point.\n",
        "\n",
        "We can estimate the parameters of the model β0 and β1 by minimize the error in the model by minimizing D. Thus, we can find the regression line given by equation (1).\n",
        "\n",
        "\n",
        "This method of finding the parameters of the model and thus regression line is called **Ordinary Least Square Method**.\n"
      ]
    },
    {
      "cell_type": "markdown",
      "source": [
        "\n",
        "## Table of Contents\n",
        "\n",
        "\n",
        "1.\tIntroduction\n",
        "2.\tLicense information\n",
        "3.\tPython libraries\n",
        "4.\tThe problem statement\n",
        "5.\tLinear Regression\n",
        "6.\tIndependent and dependent variable\n",
        "7.\tSimple Linear Regression (SLR)\n",
        "8.\tAbout the dataset\n",
        "9.\tExploratory data analysis\n",
        "10.\tMechanics of Simple Linear Regression\n",
        "11.\tModel slope and intercept term\n",
        "12.\tMaking predictions\n",
        "13.\tRegression metrics for model performance\n",
        "i.\t    RMSE\n",
        "ii.\t    R2 Score\n",
        "14.\tInterpretation and conclusion\n",
        "15.\tResidual analysis\n",
        "16.\tChecking for Overfitting or Underfitting the data\n",
        "17.\tSimple Linear Regression - Model Assumptions"
      ],
      "metadata": {
        "id": "owvyCq-AbmQ4"
      }
    },
    {
      "cell_type": "markdown",
      "source": [
        "# Project overview\n",
        "\n",
        "\n",
        "In this project, I build a Simple Linear Regression model to study the linear relationship between Sales and Advertising dataset for a dietary weight control product.\n",
        "\n",
        "Modelling the linear relationship between Sales and Advertising dataset\n"
      ],
      "metadata": {
        "id": "T6m1cEgTbViI"
      }
    },
    {
      "cell_type": "markdown",
      "metadata": {
        "id": "9-rqOOo_algb"
      },
      "source": [
        "## The problem statement\n",
        "\n",
        "The aim of building a machine learning model is to solve a problem and to define a metric to measure model performance.\n",
        "\n",
        "The problem is to model and investigate the linear relationship between Sales and Advertising dataset for a dietary weight control product.\n",
        "\n",
        "I have used two performance metrics RMSE (Root Mean Square Value) and R2 Score value to compute our model performance.\n"
      ]
    },
    {
      "cell_type": "markdown",
      "metadata": {
        "id": "deLKkm6Walgd"
      },
      "source": [
        "## Python libraries\n",
        "\n",
        "I have Anaconda Python distribution installed on my system. It comes with most of the standard Python libraries I need for this project. The basic Python libraries used in this project are:-\n",
        "\n",
        " •\tNumpy – It provides a fast numerical array structure and operating functions.\n",
        "\n",
        " •\tpandas – It provides tools for data storage, manipulation and analysis tasks.\n",
        "\n",
        " •\tScikit-Learn – The required machine learning library in Python.\n",
        "\n",
        " •\tMatplotlib – It is the basic plotting library in Python. It provides tools for making plots.\n"
      ]
    },
    {
      "cell_type": "code",
      "execution_count": null,
      "metadata": {
        "id": "Bba3-C2Calge"
      },
      "outputs": [],
      "source": [
        "# Import necessary libraries\n",
        "\n",
        "import numpy as np\n",
        "import pandas as pd\n",
        "import matplotlib.pyplot as plt\n"
      ]
    },
    {
      "cell_type": "markdown",
      "metadata": {
        "id": "rBd6hMXJalgf"
      },
      "source": [
        "## About the dataset\n",
        "\n",
        "The data set has been imported from the econometrics website with the following url:-\n",
        "\n",
        "http://www.econometrics.com/intro/sales.htm\n",
        "\n",
        "This data set contains Sales and Advertising expenditures for a dietary weight control product. It contains monthly data for 36 months. The variables in this data set are Sales and Advertising.\n",
        "\n",
        "\n"
      ]
    },
    {
      "cell_type": "code",
      "execution_count": null,
      "metadata": {
        "colab": {
          "base_uri": "https://localhost:8080/"
        },
        "id": "q1Nivg0qalgg",
        "outputId": "69bf8b16-55a0-4ec1-b7e7-c4c072fe7a1f"
      },
      "outputs": [
        {
          "output_type": "execute_result",
          "data": {
            "text/plain": [
              "(200, 5)"
            ]
          },
          "metadata": {},
          "execution_count": 32
        }
      ],
      "source": [
        "# Import the data\n",
        "\n",
        "data_path = \"/content/AdvertisingBudgetSales.csv\"\n",
        "df = pd.read_csv(data_path, sep=',')\n",
        "df.shape"
      ]
    },
    {
      "cell_type": "code",
      "source": [
        "df = df[['TV Ad Budget ($)', 'Radio Ad Budget ($)', 'Newspaper Ad Budget ($)', 'Sales ($)']]\n",
        "df.columns = ['TV_Ad_Budget', 'Radio_Ad_Budget', 'Newspaper_Ad_Budget', 'Sales']\n",
        "df['Advertising'] = df['TV_Ad_Budget']+df['Radio_Ad_Budget']+df['Newspaper_Ad_Budget']\n",
        "df = df[['Advertising','Sales']]\n",
        "data = df.copy()\n",
        "df.head()"
      ],
      "metadata": {
        "colab": {
          "base_uri": "https://localhost:8080/",
          "height": 206
        },
        "id": "EH2uO5Itdh_d",
        "outputId": "1fbcb394-2a33-4db0-dd45-6cb9c9860097"
      },
      "execution_count": null,
      "outputs": [
        {
          "output_type": "execute_result",
          "data": {
            "text/plain": [
              "   Advertising  Sales\n",
              "0        337.1   22.1\n",
              "1        128.9   10.4\n",
              "2        132.4    9.3\n",
              "3        251.3   18.5\n",
              "4        250.0   12.9"
            ],
            "text/html": [
              "\n",
              "  <div id=\"df-18e90600-13d3-470c-8a0b-092feeb004e3\" class=\"colab-df-container\">\n",
              "    <div>\n",
              "<style scoped>\n",
              "    .dataframe tbody tr th:only-of-type {\n",
              "        vertical-align: middle;\n",
              "    }\n",
              "\n",
              "    .dataframe tbody tr th {\n",
              "        vertical-align: top;\n",
              "    }\n",
              "\n",
              "    .dataframe thead th {\n",
              "        text-align: right;\n",
              "    }\n",
              "</style>\n",
              "<table border=\"1\" class=\"dataframe\">\n",
              "  <thead>\n",
              "    <tr style=\"text-align: right;\">\n",
              "      <th></th>\n",
              "      <th>Advertising</th>\n",
              "      <th>Sales</th>\n",
              "    </tr>\n",
              "  </thead>\n",
              "  <tbody>\n",
              "    <tr>\n",
              "      <th>0</th>\n",
              "      <td>337.1</td>\n",
              "      <td>22.1</td>\n",
              "    </tr>\n",
              "    <tr>\n",
              "      <th>1</th>\n",
              "      <td>128.9</td>\n",
              "      <td>10.4</td>\n",
              "    </tr>\n",
              "    <tr>\n",
              "      <th>2</th>\n",
              "      <td>132.4</td>\n",
              "      <td>9.3</td>\n",
              "    </tr>\n",
              "    <tr>\n",
              "      <th>3</th>\n",
              "      <td>251.3</td>\n",
              "      <td>18.5</td>\n",
              "    </tr>\n",
              "    <tr>\n",
              "      <th>4</th>\n",
              "      <td>250.0</td>\n",
              "      <td>12.9</td>\n",
              "    </tr>\n",
              "  </tbody>\n",
              "</table>\n",
              "</div>\n",
              "    <div class=\"colab-df-buttons\">\n",
              "\n",
              "  <div class=\"colab-df-container\">\n",
              "    <button class=\"colab-df-convert\" onclick=\"convertToInteractive('df-18e90600-13d3-470c-8a0b-092feeb004e3')\"\n",
              "            title=\"Convert this dataframe to an interactive table.\"\n",
              "            style=\"display:none;\">\n",
              "\n",
              "  <svg xmlns=\"http://www.w3.org/2000/svg\" height=\"24px\" viewBox=\"0 -960 960 960\">\n",
              "    <path d=\"M120-120v-720h720v720H120Zm60-500h600v-160H180v160Zm220 220h160v-160H400v160Zm0 220h160v-160H400v160ZM180-400h160v-160H180v160Zm440 0h160v-160H620v160ZM180-180h160v-160H180v160Zm440 0h160v-160H620v160Z\"/>\n",
              "  </svg>\n",
              "    </button>\n",
              "\n",
              "  <style>\n",
              "    .colab-df-container {\n",
              "      display:flex;\n",
              "      gap: 12px;\n",
              "    }\n",
              "\n",
              "    .colab-df-convert {\n",
              "      background-color: #E8F0FE;\n",
              "      border: none;\n",
              "      border-radius: 50%;\n",
              "      cursor: pointer;\n",
              "      display: none;\n",
              "      fill: #1967D2;\n",
              "      height: 32px;\n",
              "      padding: 0 0 0 0;\n",
              "      width: 32px;\n",
              "    }\n",
              "\n",
              "    .colab-df-convert:hover {\n",
              "      background-color: #E2EBFA;\n",
              "      box-shadow: 0px 1px 2px rgba(60, 64, 67, 0.3), 0px 1px 3px 1px rgba(60, 64, 67, 0.15);\n",
              "      fill: #174EA6;\n",
              "    }\n",
              "\n",
              "    .colab-df-buttons div {\n",
              "      margin-bottom: 4px;\n",
              "    }\n",
              "\n",
              "    [theme=dark] .colab-df-convert {\n",
              "      background-color: #3B4455;\n",
              "      fill: #D2E3FC;\n",
              "    }\n",
              "\n",
              "    [theme=dark] .colab-df-convert:hover {\n",
              "      background-color: #434B5C;\n",
              "      box-shadow: 0px 1px 3px 1px rgba(0, 0, 0, 0.15);\n",
              "      filter: drop-shadow(0px 1px 2px rgba(0, 0, 0, 0.3));\n",
              "      fill: #FFFFFF;\n",
              "    }\n",
              "  </style>\n",
              "\n",
              "    <script>\n",
              "      const buttonEl =\n",
              "        document.querySelector('#df-18e90600-13d3-470c-8a0b-092feeb004e3 button.colab-df-convert');\n",
              "      buttonEl.style.display =\n",
              "        google.colab.kernel.accessAllowed ? 'block' : 'none';\n",
              "\n",
              "      async function convertToInteractive(key) {\n",
              "        const element = document.querySelector('#df-18e90600-13d3-470c-8a0b-092feeb004e3');\n",
              "        const dataTable =\n",
              "          await google.colab.kernel.invokeFunction('convertToInteractive',\n",
              "                                                    [key], {});\n",
              "        if (!dataTable) return;\n",
              "\n",
              "        const docLinkHtml = 'Like what you see? Visit the ' +\n",
              "          '<a target=\"_blank\" href=https://colab.research.google.com/notebooks/data_table.ipynb>data table notebook</a>'\n",
              "          + ' to learn more about interactive tables.';\n",
              "        element.innerHTML = '';\n",
              "        dataTable['output_type'] = 'display_data';\n",
              "        await google.colab.output.renderOutput(dataTable, element);\n",
              "        const docLink = document.createElement('div');\n",
              "        docLink.innerHTML = docLinkHtml;\n",
              "        element.appendChild(docLink);\n",
              "      }\n",
              "    </script>\n",
              "  </div>\n",
              "\n",
              "\n",
              "<div id=\"df-e51058ad-f07b-4d15-b761-99cc953e8891\">\n",
              "  <button class=\"colab-df-quickchart\" onclick=\"quickchart('df-e51058ad-f07b-4d15-b761-99cc953e8891')\"\n",
              "            title=\"Suggest charts\"\n",
              "            style=\"display:none;\">\n",
              "\n",
              "<svg xmlns=\"http://www.w3.org/2000/svg\" height=\"24px\"viewBox=\"0 0 24 24\"\n",
              "     width=\"24px\">\n",
              "    <g>\n",
              "        <path d=\"M19 3H5c-1.1 0-2 .9-2 2v14c0 1.1.9 2 2 2h14c1.1 0 2-.9 2-2V5c0-1.1-.9-2-2-2zM9 17H7v-7h2v7zm4 0h-2V7h2v10zm4 0h-2v-4h2v4z\"/>\n",
              "    </g>\n",
              "</svg>\n",
              "  </button>\n",
              "\n",
              "<style>\n",
              "  .colab-df-quickchart {\n",
              "      --bg-color: #E8F0FE;\n",
              "      --fill-color: #1967D2;\n",
              "      --hover-bg-color: #E2EBFA;\n",
              "      --hover-fill-color: #174EA6;\n",
              "      --disabled-fill-color: #AAA;\n",
              "      --disabled-bg-color: #DDD;\n",
              "  }\n",
              "\n",
              "  [theme=dark] .colab-df-quickchart {\n",
              "      --bg-color: #3B4455;\n",
              "      --fill-color: #D2E3FC;\n",
              "      --hover-bg-color: #434B5C;\n",
              "      --hover-fill-color: #FFFFFF;\n",
              "      --disabled-bg-color: #3B4455;\n",
              "      --disabled-fill-color: #666;\n",
              "  }\n",
              "\n",
              "  .colab-df-quickchart {\n",
              "    background-color: var(--bg-color);\n",
              "    border: none;\n",
              "    border-radius: 50%;\n",
              "    cursor: pointer;\n",
              "    display: none;\n",
              "    fill: var(--fill-color);\n",
              "    height: 32px;\n",
              "    padding: 0;\n",
              "    width: 32px;\n",
              "  }\n",
              "\n",
              "  .colab-df-quickchart:hover {\n",
              "    background-color: var(--hover-bg-color);\n",
              "    box-shadow: 0 1px 2px rgba(60, 64, 67, 0.3), 0 1px 3px 1px rgba(60, 64, 67, 0.15);\n",
              "    fill: var(--button-hover-fill-color);\n",
              "  }\n",
              "\n",
              "  .colab-df-quickchart-complete:disabled,\n",
              "  .colab-df-quickchart-complete:disabled:hover {\n",
              "    background-color: var(--disabled-bg-color);\n",
              "    fill: var(--disabled-fill-color);\n",
              "    box-shadow: none;\n",
              "  }\n",
              "\n",
              "  .colab-df-spinner {\n",
              "    border: 2px solid var(--fill-color);\n",
              "    border-color: transparent;\n",
              "    border-bottom-color: var(--fill-color);\n",
              "    animation:\n",
              "      spin 1s steps(1) infinite;\n",
              "  }\n",
              "\n",
              "  @keyframes spin {\n",
              "    0% {\n",
              "      border-color: transparent;\n",
              "      border-bottom-color: var(--fill-color);\n",
              "      border-left-color: var(--fill-color);\n",
              "    }\n",
              "    20% {\n",
              "      border-color: transparent;\n",
              "      border-left-color: var(--fill-color);\n",
              "      border-top-color: var(--fill-color);\n",
              "    }\n",
              "    30% {\n",
              "      border-color: transparent;\n",
              "      border-left-color: var(--fill-color);\n",
              "      border-top-color: var(--fill-color);\n",
              "      border-right-color: var(--fill-color);\n",
              "    }\n",
              "    40% {\n",
              "      border-color: transparent;\n",
              "      border-right-color: var(--fill-color);\n",
              "      border-top-color: var(--fill-color);\n",
              "    }\n",
              "    60% {\n",
              "      border-color: transparent;\n",
              "      border-right-color: var(--fill-color);\n",
              "    }\n",
              "    80% {\n",
              "      border-color: transparent;\n",
              "      border-right-color: var(--fill-color);\n",
              "      border-bottom-color: var(--fill-color);\n",
              "    }\n",
              "    90% {\n",
              "      border-color: transparent;\n",
              "      border-bottom-color: var(--fill-color);\n",
              "    }\n",
              "  }\n",
              "</style>\n",
              "\n",
              "  <script>\n",
              "    async function quickchart(key) {\n",
              "      const quickchartButtonEl =\n",
              "        document.querySelector('#' + key + ' button');\n",
              "      quickchartButtonEl.disabled = true;  // To prevent multiple clicks.\n",
              "      quickchartButtonEl.classList.add('colab-df-spinner');\n",
              "      try {\n",
              "        const charts = await google.colab.kernel.invokeFunction(\n",
              "            'suggestCharts', [key], {});\n",
              "      } catch (error) {\n",
              "        console.error('Error during call to suggestCharts:', error);\n",
              "      }\n",
              "      quickchartButtonEl.classList.remove('colab-df-spinner');\n",
              "      quickchartButtonEl.classList.add('colab-df-quickchart-complete');\n",
              "    }\n",
              "    (() => {\n",
              "      let quickchartButtonEl =\n",
              "        document.querySelector('#df-e51058ad-f07b-4d15-b761-99cc953e8891 button');\n",
              "      quickchartButtonEl.style.display =\n",
              "        google.colab.kernel.accessAllowed ? 'block' : 'none';\n",
              "    })();\n",
              "  </script>\n",
              "</div>\n",
              "\n",
              "    </div>\n",
              "  </div>\n"
            ],
            "application/vnd.google.colaboratory.intrinsic+json": {
              "type": "dataframe",
              "variable_name": "df",
              "summary": "{\n  \"name\": \"df\",\n  \"rows\": 200,\n  \"fields\": [\n    {\n      \"column\": \"Advertising\",\n      \"properties\": {\n        \"dtype\": \"number\",\n        \"std\": 92.9851805869837,\n        \"min\": 11.7,\n        \"max\": 433.6,\n        \"num_unique_values\": 197,\n        \"samples\": [\n          304.7,\n          240.89999999999998,\n          218.4\n        ],\n        \"semantic_type\": \"\",\n        \"description\": \"\"\n      }\n    },\n    {\n      \"column\": \"Sales\",\n      \"properties\": {\n        \"dtype\": \"number\",\n        \"std\": 5.217456565710478,\n        \"min\": 1.6,\n        \"max\": 27.0,\n        \"num_unique_values\": 121,\n        \"samples\": [\n          11.4,\n          21.2,\n          12.9\n        ],\n        \"semantic_type\": \"\",\n        \"description\": \"\"\n      }\n    }\n  ]\n}"
            }
          },
          "metadata": {},
          "execution_count": 33
        }
      ]
    },
    {
      "cell_type": "markdown",
      "metadata": {
        "id": "zvU6YJd8algg"
      },
      "source": [
        "# Exploratory data analysis\n",
        "\n",
        "\n",
        "First, I import the dataset into the dataframe with the standard read_csv () function of pandas library and assign it to the df variable. Then, I conducted exploratory data analysis to get a feel for the data.\n",
        "\n",
        "\n",
        "### pandas shape attribute\n",
        "\n",
        "The shape attribute of the pandas dataframe gives the dimensions of the dataframe."
      ]
    },
    {
      "cell_type": "code",
      "execution_count": null,
      "metadata": {
        "colab": {
          "base_uri": "https://localhost:8080/"
        },
        "id": "TT_q5lMKalgg",
        "outputId": "e2d4b2cf-5b09-4e59-84f1-7bc3ad861816"
      },
      "outputs": [
        {
          "output_type": "stream",
          "name": "stdout",
          "text": [
            "(200, 2)\n"
          ]
        }
      ],
      "source": [
        "# Exploratory data analysis\n",
        "\n",
        "# View the dimensions of df\n",
        "\n",
        "print(df.shape)"
      ]
    },
    {
      "cell_type": "markdown",
      "metadata": {
        "id": "9zLtoSBtalgi"
      },
      "source": [
        "### pandas head() method\n",
        "\n",
        "I viewed the top 5 rows of the pandas dataframe with the pandas head() method."
      ]
    },
    {
      "cell_type": "code",
      "execution_count": null,
      "metadata": {
        "colab": {
          "base_uri": "https://localhost:8080/"
        },
        "id": "RRWcMyUsalgj",
        "outputId": "06265fb0-e184-447d-ee9c-44f5e149fafe"
      },
      "outputs": [
        {
          "output_type": "stream",
          "name": "stdout",
          "text": [
            "   Advertising  Sales\n",
            "0        337.1   22.1\n",
            "1        128.9   10.4\n",
            "2        132.4    9.3\n",
            "3        251.3   18.5\n",
            "4        250.0   12.9\n"
          ]
        }
      ],
      "source": [
        "# View the top 5 rows of df\n",
        "\n",
        "print(df.head())"
      ]
    },
    {
      "cell_type": "markdown",
      "metadata": {
        "id": "Mosd03KFalgj"
      },
      "source": [
        "### pandas columns attribute\n",
        "\n",
        "I renamed the column labels of the dataframe with the columns attribute."
      ]
    },
    {
      "cell_type": "code",
      "source": [
        "df.columns\n"
      ],
      "metadata": {
        "colab": {
          "base_uri": "https://localhost:8080/"
        },
        "id": "3cNIUQK2cf6P",
        "outputId": "52e1e8f5-4e37-4eed-b8ea-1c34e216ddd8"
      },
      "execution_count": null,
      "outputs": [
        {
          "output_type": "execute_result",
          "data": {
            "text/plain": [
              "Index(['Advertising', 'Sales'], dtype='object')"
            ]
          },
          "metadata": {},
          "execution_count": 36
        }
      ]
    },
    {
      "cell_type": "markdown",
      "metadata": {
        "id": "FOnQJZY6algk"
      },
      "source": [
        "### pandas info() method\n",
        "\n",
        "I viewed the summary of the dataframe with the pandas info() method."
      ]
    },
    {
      "cell_type": "code",
      "execution_count": null,
      "metadata": {
        "colab": {
          "base_uri": "https://localhost:8080/"
        },
        "id": "SreN-_IFalgk",
        "outputId": "8f56ee89-fd9d-42bb-f089-f8d164e42676"
      },
      "outputs": [
        {
          "output_type": "stream",
          "name": "stdout",
          "text": [
            "<class 'pandas.core.frame.DataFrame'>\n",
            "RangeIndex: 200 entries, 0 to 199\n",
            "Data columns (total 2 columns):\n",
            " #   Column       Non-Null Count  Dtype  \n",
            "---  ------       --------------  -----  \n",
            " 0   Advertising  200 non-null    float64\n",
            " 1   Sales        200 non-null    float64\n",
            "dtypes: float64(2)\n",
            "memory usage: 3.2 KB\n",
            "None\n"
          ]
        }
      ],
      "source": [
        "# View dataframe summary\n",
        "\n",
        "print(df.info())"
      ]
    },
    {
      "cell_type": "markdown",
      "metadata": {
        "id": "_L4_iUNvalgl"
      },
      "source": [
        "### pandas describe() method\n",
        "\n",
        "I look at the descriptive statistics of the dataframe with the pandas describe() method."
      ]
    },
    {
      "cell_type": "code",
      "execution_count": null,
      "metadata": {
        "colab": {
          "base_uri": "https://localhost:8080/"
        },
        "id": "LD4b7TqWalgl",
        "outputId": "a369120a-cdb2-43f8-dbfb-67009476fb0d"
      },
      "outputs": [
        {
          "output_type": "stream",
          "name": "stdout",
          "text": [
            "       Advertising       Sales\n",
            "count   200.000000  200.000000\n",
            "mean    200.860500   14.022500\n",
            "std      92.985181    5.217457\n",
            "min      11.700000    1.600000\n",
            "25%     123.550000   10.375000\n",
            "50%     207.350000   12.900000\n",
            "75%     281.125000   17.400000\n",
            "max     433.600000   27.000000\n"
          ]
        }
      ],
      "source": [
        "# View descriptive statistics\n",
        "\n",
        "print(df.describe())"
      ]
    },
    {
      "cell_type": "markdown",
      "metadata": {
        "id": "B44NVv77algm"
      },
      "source": [
        "# Independent and Dependent Variables\n",
        "\n",
        "\n",
        "In this project, I refer Independent variable as Feature variable and Dependent variable as Target variable. These variables are also recognized by different names as follows: -\n",
        "\n",
        "\n",
        "### Independent variable\n",
        "\n",
        "Independent variable is also called Input variable and is denoted by X. In practical applications, independent variable is also called Feature variable or Predictor variable. We can denote it as:-\n",
        "\n",
        "Independent or Input variable (X) = Feature variable = Predictor variable\n",
        "\n",
        "\n",
        "### Dependent variable\n",
        "\n",
        "Dependent variable is also called Output variable and is denoted by y.\n",
        "\n",
        "Dependent variable is also called Target variable or Response variable. It can be denoted it as follows:-\n",
        "\n",
        "Dependent or Output variable (y) = Target variable = Response variable\n"
      ]
    },
    {
      "cell_type": "code",
      "execution_count": null,
      "metadata": {
        "id": "jK_PRMuZalgm"
      },
      "outputs": [],
      "source": [
        "# Declare feature variable and target variable\n",
        "\n",
        "X = df['Sales'].values\n",
        "y = df['Advertising'].values\n",
        "\n",
        "# Sales and Advertising data values are given by X and y respectively.\n",
        "\n",
        "# Values attribute of pandas dataframe returns the numpy arrays."
      ]
    },
    {
      "cell_type": "markdown",
      "metadata": {
        "id": "U93vDFvKalgm"
      },
      "source": [
        "## Visual exploratory data analysis\n",
        "\n",
        "I visualize the relationship between X and y by plotting a scatterplot between X and y."
      ]
    },
    {
      "cell_type": "code",
      "execution_count": null,
      "metadata": {
        "colab": {
          "base_uri": "https://localhost:8080/",
          "height": 472
        },
        "id": "eeKAiDB2algm",
        "outputId": "181f606e-f2ca-4783-cfdb-2c0ffcf2cc85"
      },
      "outputs": [
        {
          "output_type": "display_data",
          "data": {
            "text/plain": [
              "<Figure size 640x480 with 1 Axes>"
            ],
            "image/png": "[encoded data removed]"
          },
          "metadata": {}
        }
      ],
      "source": [
        "# Plot scatter plot between X and y\n",
        "\n",
        "plt.scatter(X, y, color = 'blue', label='Scatter Plot')\n",
        "plt.title('Relationship between Sales and Advertising')\n",
        "plt.xlabel('Sales')\n",
        "plt.ylabel('Advertising')\n",
        "plt.legend(loc=4)\n",
        "plt.show()"
      ]
    },
    {
      "cell_type": "markdown",
      "metadata": {
        "id": "0v1Z_BRFalgm"
      },
      "source": [
        "## Checking dimensions of X and y\n",
        "\n",
        "We need to check the dimensions of X and y to make sure they are in right format for Scikit-Learn API.\n",
        "\n",
        "It is an important precursor to model building."
      ]
    },
    {
      "cell_type": "code",
      "execution_count": null,
      "metadata": {
        "colab": {
          "base_uri": "https://localhost:8080/"
        },
        "id": "LMmJ-yigalgn",
        "outputId": "151c7a64-75e9-4594-a1c6-d21078e36141"
      },
      "outputs": [
        {
          "output_type": "stream",
          "name": "stdout",
          "text": [
            "(200,)\n",
            "(200,)\n"
          ]
        }
      ],
      "source": [
        "# Print the dimensions of X and y\n",
        "\n",
        "print(X.shape)\n",
        "print(y.shape)"
      ]
    },
    {
      "cell_type": "markdown",
      "metadata": {
        "id": "nVMLmz9galgn"
      },
      "source": [
        "## Reshaping X and y\n",
        "\n",
        "Since we are working with only one feature variable, so we need to reshape using Numpy reshape() method.\n",
        "\n",
        "It specifies first dimension to be -1, which means \"unspecified\".\n",
        "\n",
        "Its value is inferred from the length of the array and the remaining dimensions.\n"
      ]
    },
    {
      "cell_type": "code",
      "execution_count": null,
      "metadata": {
        "id": "_4_baDwxalgn"
      },
      "outputs": [],
      "source": [
        "# Reshape X and y\n",
        "\n",
        "X = X.reshape(-1,1)\n",
        "y = y.reshape(-1,1)\n"
      ]
    },
    {
      "cell_type": "markdown",
      "source": [
        "In NumPy, `X.reshape(-1,1)` is a method used to reshape an array `X` into a new shape where the number of rows is unspecified (`-1`), and the number of columns is explicitly set to `1`. Here’s what each part means:\n",
        "\n",
        "- **`reshape`**: This is a method in NumPy used to change the shape of an array without changing its data.\n",
        "- **`-1`**: When used in the context of `reshape`, `-1` is a placeholder that means \"whatever dimension is needed\". NumPy will automatically determine the number of rows based on the array's size and the other specified dimension (`1` in this case).\n",
        "- **`1`**: This specifies the number of columns in the reshaped array.\n",
        "\n",
        "### Example:\n",
        "\n",
        "Suppose you have an array `X` with 10 elements:\n",
        "\n",
        "```python\n",
        "import numpy as np\n",
        "\n",
        "X = np.array([0, 1, 2, 3, 4, 5, 6, 7, 8, 9])\n",
        "```\n",
        "\n",
        "If you reshape `X` using `X.reshape(-1, 1)`, NumPy will reshape `X` into a column vector:\n",
        "\n",
        "```python\n",
        "X_reshaped = X.reshape(-1, 1)\n",
        "print(X_reshaped)\n",
        "```\n",
        "\n",
        "Output:\n",
        "```\n",
        "[[0]\n",
        " [1]\n",
        " [2]\n",
        " [3]\n",
        " [4]\n",
        " [5]\n",
        " [6]\n",
        " [7]\n",
        " [8]\n",
        " [9]]\n",
        "```\n",
        "\n",
        "### Explanation:\n",
        "\n",
        "- `X` originally has shape `(10,)`, meaning it's a 1-dimensional array with 10 elements.\n",
        "- `X.reshape(-1, 1)` reshapes `X` into a 2-dimensional array where each row has 1 column.\n",
        "- The resulting shape of `X_reshaped` is `(10, 1)`, indicating 10 rows and 1 column.\n",
        "\n",
        "### Use Cases:\n",
        "\n",
        "- **Preparing for Machine Learning**: Reshaping arrays into specific shapes is common when preparing data for machine learning algorithms, especially when dealing with features or targets that need to be in a certain shape.\n",
        "- **Handling Data**: Sometimes, libraries or functions expect data in a specific shape (e.g., `(n_samples, n_features)` for scikit-learn), and `reshape` is useful for ensuring compatibility.\n",
        "- **Vectorization**: Operations in NumPy and other libraries are often optimized for arrays with specific shapes, and reshaping can facilitate efficient computation.\n",
        "\n",
        "In summary, `X.reshape(-1, 1)` is a convenient way in NumPy to reshape an array `X` into a column vector, where the number of rows is inferred based on the original array's size and the specified number of columns (`1` in this case)."
      ],
      "metadata": {
        "id": "kV0ik3q_fP3Y"
      }
    },
    {
      "cell_type": "code",
      "execution_count": null,
      "metadata": {
        "colab": {
          "base_uri": "https://localhost:8080/"
        },
        "id": "g7zWHbLSalgn",
        "outputId": "10db1d01-3623-4b2b-c5dc-96204e6a2770"
      },
      "outputs": [
        {
          "output_type": "stream",
          "name": "stdout",
          "text": [
            "(200, 1)\n",
            "(200, 1)\n"
          ]
        }
      ],
      "source": [
        "# Print the dimensions of X and y after reshaping\n",
        "\n",
        "print(X.shape)\n",
        "print(y.shape)\n"
      ]
    },
    {
      "cell_type": "markdown",
      "metadata": {
        "id": "QS4qC2rEalgo"
      },
      "source": [
        "## Difference in dimensions of X and y after reshaping\n",
        "\n",
        "\n",
        "We can see the difference in diminsions of X and y before and after reshaping.\n",
        "\n",
        "It is essential in this case because getting the feature and target variable right is an important precursor to model building."
      ]
    },
    {
      "cell_type": "markdown",
      "metadata": {
        "id": "oN8LzKkUalgo"
      },
      "source": [
        "# Train test split\n",
        "\n",
        "\n",
        "I split the dataset into two sets namely - train set and test set.\n",
        "\n",
        "The model learn the relationships from the training data and predict on test data.\n"
      ]
    },
    {
      "cell_type": "code",
      "execution_count": null,
      "metadata": {
        "id": "0VIM89e3algo"
      },
      "outputs": [],
      "source": [
        "# Split X and y into training and test data sets\n",
        "\n",
        "from sklearn.model_selection import train_test_split\n",
        "X_train,X_test,y_train,y_test = train_test_split(X, y, test_size=0.33, random_state=42)\n",
        "\n"
      ]
    },
    {
      "cell_type": "code",
      "execution_count": null,
      "metadata": {
        "colab": {
          "base_uri": "https://localhost:8080/"
        },
        "id": "1t2gfxahalgo",
        "outputId": "1dd17140-b713-4748-8cf8-b40756fed998"
      },
      "outputs": [
        {
          "output_type": "stream",
          "name": "stdout",
          "text": [
            "(134, 1)\n",
            "(134, 1)\n",
            "(66, 1)\n",
            "(66, 1)\n"
          ]
        }
      ],
      "source": [
        "# Print the dimensions of X_train,X_test,y_train,y_test\n",
        "\n",
        "print(X_train.shape)\n",
        "print(y_train.shape)\n",
        "print(X_test.shape)\n",
        "print(y_test.shape)"
      ]
    },
    {
      "cell_type": "markdown",
      "metadata": {
        "id": "uPKeEUi_algp"
      },
      "source": [
        "# Build ML model\n",
        "\n",
        "\n",
        "I split the dataset into two sets – the training set and the test set. Then, I instantiate the regressor lm and fit it on the training set with the fit method.\n",
        "\n",
        "In this step, the model learned the relationships between the training data (X_train, y_train).\n",
        "\n",
        "Now the model is ready to make predictions on the test data (X_test). Hence, I predict on the test data using the predict method.\n"
      ]
    },
    {
      "cell_type": "code",
      "execution_count": null,
      "metadata": {
        "id": "7QWwS8AHalgp"
      },
      "outputs": [],
      "source": [
        "# Fit the linear model\n",
        "\n",
        "# Instantiate the linear regression object lm\n",
        "from sklearn.linear_model import LinearRegression\n",
        "lm = LinearRegression()\n",
        "\n",
        "\n",
        "# Train the model using training data sets\n",
        "lm.fit(X_train,y_train)\n",
        "\n",
        "\n",
        "# Predict on the test data\n",
        "y_pred=lm.predict(X_test)"
      ]
    },
    {
      "cell_type": "markdown",
      "metadata": {
        "id": "meus-D-oalgp"
      },
      "source": [
        "## Model slope and intercept term\n",
        "\n",
        "The model slope is given by lm.coef_ and model intercept term is given by lm.intercept_.\n",
        "\n",
        "The estimated model slope and intercept values are 1.60509347 and  -11.16003616.\n",
        "\n",
        "So, the equation of the fitted regression line is\n",
        "\n",
        "y = 1.60509347 * x - 11.16003616  \n"
      ]
    },
    {
      "cell_type": "code",
      "execution_count": null,
      "metadata": {
        "colab": {
          "base_uri": "https://localhost:8080/"
        },
        "id": "DIgEpVEAalgz",
        "outputId": "a65e0367-895a-460b-84d5-7879d19e69d7"
      },
      "outputs": [
        {
          "output_type": "stream",
          "name": "stdout",
          "text": [
            "Estimated model slope, a: [[15.09114349]]\n",
            "Estimated model intercept, b: (array([-9.63219131]),)\n"
          ]
        }
      ],
      "source": [
        "# Compute model slope and intercept\n",
        "\n",
        "a = lm.coef_\n",
        "b = lm.intercept_,\n",
        "print(\"Estimated model slope, a:\" , a)\n",
        "print(\"Estimated model intercept, b:\" , b)\n"
      ]
    },
    {
      "cell_type": "markdown",
      "metadata": {
        "id": "lHhKtr9Kalg0"
      },
      "source": [
        "# Making predictions\n",
        "\n",
        "\n",
        "I have predicted the Advertising values on first five 5 Sales datasets by writing code\n",
        "\n",
        "\n",
        "\t\tlm.predict(X) [0:5]  \n",
        "        \n",
        "\n",
        "If I remove [0:5], then I will get predicted Advertising values for the whole Sales dataset.\n",
        "\n",
        "\n",
        "To make prediction, on an individual Sales value, I write\n",
        "\n",
        "\n",
        "\t\tlm.predict(Xi)\n",
        "        \n",
        "\n",
        "where Xi is the Sales data value of the ith observation.\n",
        "\n"
      ]
    },
    {
      "cell_type": "code",
      "execution_count": null,
      "metadata": {
        "colab": {
          "base_uri": "https://localhost:8080/"
        },
        "id": "LGhfqKZ5alg1",
        "outputId": "2049365b-0614-4959-ddab-727adefcfad4"
      },
      "outputs": [
        {
          "output_type": "execute_result",
          "data": {
            "text/plain": [
              "array([[323.88207977],\n",
              "       [147.31570097],\n",
              "       [130.71544313],\n",
              "       [269.55396322],\n",
              "       [185.04355968]])"
            ]
          },
          "metadata": {},
          "execution_count": 48
        }
      ],
      "source": [
        "# Predicting Advertising values\n",
        "\n",
        "lm.predict(X)[0:5]\n",
        "\n",
        "# Predicting Advertising values on first five Sales values."
      ]
    },
    {
      "cell_type": "code",
      "execution_count": null,
      "metadata": {
        "colab": {
          "base_uri": "https://localhost:8080/"
        },
        "id": "HNeC35Qzalg1",
        "outputId": "e3ea64d9-962b-494c-eda4-be9cdc25ae0c"
      },
      "outputs": [
        {
          "output_type": "execute_result",
          "data": {
            "text/plain": [
              "array([[352.5552524]])"
            ]
          },
          "metadata": {},
          "execution_count": 52
        }
      ],
      "source": [
        "# To make an individual prediction using the linear regression model.\n",
        "\n",
        "lm.predict([[24]])"
      ]
    },
    {
      "cell_type": "markdown",
      "metadata": {
        "id": "GGVkacNBalg1"
      },
      "source": [
        "# Regression metrics for model performance\n",
        "\n",
        "\n",
        "Now, it is the time to evaluate model performance.\n",
        "\n",
        "For regression problems, there are two ways to compute the model performance. They are RMSE (Root Mean Square Error) and R-Squared Value. These are explained below:-  \n",
        "\n",
        "\n",
        "### RMSE\n",
        "\n",
        "RMSE is the standard deviation of the residuals. So, RMSE gives us the standard deviation of the unexplained variance by the model. It can be calculated by taking square root of Mean Squared Error.\n",
        "RMSE is an absolute measure of fit. It gives us how spread the residuals are, given by the standard deviation of the residuals. The more concentrated the data is around the regression line, the lower the residuals and hence lower the standard deviation of residuals. It results in lower values of RMSE. So, lower values of RMSE indicate better fit of data.\n"
      ]
    },
    {
      "cell_type": "code",
      "execution_count": null,
      "metadata": {
        "colab": {
          "base_uri": "https://localhost:8080/"
        },
        "id": "bdz5r7uCalg2",
        "outputId": "3cc80470-c73e-46dd-d707-af60d11ad8bd"
      },
      "outputs": [
        {
          "output_type": "stream",
          "name": "stdout",
          "text": [
            "RMSE value: 48.2808\n"
          ]
        }
      ],
      "source": [
        "# Calculate and print Root Mean Square Error(RMSE)\n",
        "\n",
        "from sklearn.metrics import mean_squared_error\n",
        "mse = mean_squared_error(y_test, y_pred)\n",
        "rmse = np.sqrt(mse)\n",
        "print(\"RMSE value: {:.4f}\".format(rmse))\n"
      ]
    },
    {
      "cell_type": "markdown",
      "metadata": {
        "id": "5rooGjGbalg3"
      },
      "source": [
        "###  R2 Score\n",
        "\n",
        "\n",
        "R2 Score is another metric to evaluate performance of a regression model. It is also called coefficient of determination. It gives us an idea of goodness of fit for the linear regression models. It indicates the percentage of variance that is explained by the model.\n",
        "\n",
        "\n",
        "Mathematically,\n",
        "\n",
        "\n",
        "R2 Score = Explained Variation/Total Variation\n",
        "\n",
        "\n",
        "In general, the higher the R2 Score value, the better the model fits the data. Usually, its value ranges from 0 to 1. So, we want its value to be as close to 1. Its value can become negative if our model is wrong.\n",
        "\n"
      ]
    },
    {
      "cell_type": "code",
      "execution_count": null,
      "metadata": {
        "colab": {
          "base_uri": "https://localhost:8080/"
        },
        "id": "-c1VZnT7alg3",
        "outputId": "4dfa2774-ecce-4a73-93af-ad4bbeaae1c3"
      },
      "outputs": [
        {
          "output_type": "stream",
          "name": "stdout",
          "text": [
            "R2 Score value: 0.7409\n"
          ]
        }
      ],
      "source": [
        "# Calculate and print r2_score\n",
        "\n",
        "from sklearn.metrics import r2_score\n",
        "print (\"R2 Score value: {:.4f}\".format(r2_score(y_test, y_pred)))\n"
      ]
    },
    {
      "cell_type": "markdown",
      "metadata": {
        "id": "Nd8ljSTsalg4"
      },
      "source": [
        "## Interpretation and Conclusion\n",
        "\n",
        "\n",
        "The RMSE value has been found to be 11.2273. It means the standard deviation for our prediction is 11.2273. So, sometimes we expect the predictions to be off by more than 11.2273 and other times we expect less than 11.2273. So, the model is not good fit to the data.\n",
        "\n",
        "\n",
        "In business decisions, the benchmark for the R2 score value is 0.7. It means if R2 score value >= 0.7, then the model is good enough to deploy on unseen data whereas if R2 score value < 0.7, then the model is not good enough to deploy. Our R2 score value has been found to be .5789. It means that this model explains 57.89 % of the variance in our dependent variable. So, the R2 score value confirms that the model is not good enough to deploy because it does not provide good fit to the data.\n"
      ]
    },
    {
      "cell_type": "code",
      "execution_count": null,
      "metadata": {
        "colab": {
          "base_uri": "https://localhost:8080/",
          "height": 472
        },
        "id": "EZ-y7ig6alg4",
        "outputId": "6f68bb63-e733-48e9-dad1-7469faa8c69e"
      },
      "outputs": [
        {
          "output_type": "display_data",
          "data": {
            "text/plain": [
              "<Figure size 640x480 with 1 Axes>"
            ],
            "image/png": "[encoded data removed]"
          },
          "metadata": {}
        }
      ],
      "source": [
        "# Plot the Regression Line\n",
        "\n",
        "\n",
        "plt.scatter(X, y, color = 'blue', label='Scatter Plot')\n",
        "plt.plot(X_test, y_pred, color = 'black', linewidth=3, label = 'Regression Line')\n",
        "plt.title('Relationship between Sales and Advertising')\n",
        "plt.xlabel('Sales')\n",
        "plt.ylabel('Advertising')\n",
        "plt.legend(loc=4)\n",
        "plt.show()\n"
      ]
    },
    {
      "cell_type": "markdown",
      "metadata": {
        "id": "6-rMHOJoalg5"
      },
      "source": [
        "# Residual analysis\n",
        "\n",
        "\n",
        "\n",
        "A linear regression model may not represent the data appropriately. The model may be a poor fit to the data. So, we should validate our model by defining and examining residual plots.\n",
        "\n",
        "The difference between the observed value of the dependent variable (y) and the predicted value (ŷi) is called the residual and is denoted by e. The scatter-plot of these residuals is called residual plot.\n",
        "\n",
        "If the data points in a residual plot are randomly dispersed around horizontal axis and an approximate zero residual mean, a linear regression model may be appropriate for the data. Otherwise a non-linear model may be more appropriate.\n",
        "\n",
        "If we take a look at the generated ‘Residual errors’ plot, we can clearly see that the train data plot pattern is non-random. Same is the case with the test data plot pattern.\n",
        "So, it suggests a better-fit for a non-linear model.\n",
        "\n"
      ]
    },
    {
      "cell_type": "code",
      "execution_count": null,
      "metadata": {
        "colab": {
          "base_uri": "https://localhost:8080/",
          "height": 452
        },
        "id": "zUQpQZWUalg5",
        "outputId": "001e8f72-f865-4d55-bc79-390fdbf67cf0"
      },
      "outputs": [
        {
          "output_type": "display_data",
          "data": {
            "text/plain": [
              "<Figure size 640x480 with 1 Axes>"
            ],
            "image/png": "[encoded data removed]"
          },
          "metadata": {}
        }
      ],
      "source": [
        "# Plotting residual errors\n",
        "\n",
        "plt.scatter(lm.predict(X_train), lm.predict(X_train) - y_train, color = 'red', label = 'Train data')\n",
        "plt.scatter(lm.predict(X_test), lm.predict(X_test) - y_test, color = 'blue', label = 'Test data')\n",
        "plt.hlines(xmin = 0, xmax = 50, y = 0, linewidth = 3)\n",
        "plt.title('Residual errors')\n",
        "plt.legend(loc = 4)\n",
        "plt.show()"
      ]
    },
    {
      "cell_type": "markdown",
      "metadata": {
        "id": "jpJ04BqNalg5"
      },
      "source": [
        "# Checking for Overfitting and Underfitting\n",
        "\n",
        "\n",
        "I calculate training set score as 0.2861. Similarly, I calculate test set score as 0.5789.\n",
        "The training set score is very poor. So, the model does not learn the relationships appropriately from the training data. Thus, the model performs poorly on the training data. It is a clear sign of Underfitting. Hence, I validated my finding that the linear regression model does not provide good fit to the data.\n",
        "\n",
        "\n",
        "Underfitting means our model performs poorly on the training data. It means the model does not capture the relationships between the training data. This problem can be improved by increasing model complexity. We should use more powerful models like Polynomial regression to increase model complexity.\n"
      ]
    },
    {
      "cell_type": "code",
      "execution_count": null,
      "metadata": {
        "colab": {
          "base_uri": "https://localhost:8080/"
        },
        "id": "LxFGXssCalg6",
        "outputId": "1f0db0bb-ede2-4757-f3f6-e2f80e57d4a0"
      },
      "outputs": [
        {
          "output_type": "stream",
          "name": "stdout",
          "text": [
            "Training set score: 0.7492\n",
            "Test set score: 0.7409\n"
          ]
        }
      ],
      "source": [
        "# Checking for Overfitting or Underfitting the data\n",
        "\n",
        "print(\"Training set score: {:.4f}\".format(lm.score(X_train,y_train)))\n",
        "\n",
        "print(\"Test set score: {:.4f}\".format(lm.score(X_test,y_test)))"
      ]
    },
    {
      "cell_type": "code",
      "execution_count": null,
      "metadata": {
        "id": "enhTlOCmalg6"
      },
      "outputs": [],
      "source": [
        "# Save model for future use\n",
        "\n",
        "import pickle\n",
        "\n",
        "# File path where the model will be saved\n",
        "model_filename = 'lm_regressor.pkl'\n",
        "\n",
        "# Save the model to disk\n",
        "with open(model_filename, 'wb') as file:\n",
        "    pickle.dump(lm, file)\n"
      ]
    },
    {
      "cell_type": "code",
      "source": [
        "model_filename = '/content/lm_regressor.pkl'\n",
        "# Load the model from disk\n",
        "with open(model_filename, 'rb') as file:\n",
        "    loaded_model = pickle.load(file)\n"
      ],
      "metadata": {
        "id": "ZQqBMGq2gq3g"
      },
      "execution_count": null,
      "outputs": []
    },
    {
      "cell_type": "markdown",
      "metadata": {
        "id": "S4PoFv6Qalg7"
      },
      "source": [
        "# Simple Linear Regression - Model Assumptions\n",
        "\n",
        "\n",
        "\n",
        "The Linear Regression Model is based on several assumptions which are listed below:-\n",
        "\n",
        "i.\tLinear relationship\n",
        "ii.\tMultivariate normality\n",
        "iii.\tNo or little multicollinearity\n",
        "iv.\tNo auto-correlation\n",
        "v.\tHomoscedasticity\n",
        "\n",
        "\n",
        "### i.\tLinear relationship\n",
        "\n",
        "\n",
        "The relationship between response and feature variables should be linear. This linear relationship assumption can be tested by plotting a scatter-plot between response and feature variables.\n",
        "\n",
        "\n",
        "### ii.\tMultivariate normality\n",
        "\n",
        "The linear regression model requires all variables to be multivariate normal. A multivariate normal distribution means a vector in multiple normally distributed variables, where any linear combination of the variables is also normally distributed.\n",
        "\n",
        "\n",
        "### iii.\tNo or little multicollinearity\n",
        "\n",
        "It is assumed that there is little or no multicollinearity in the data. Multicollinearity occurs when the features (or independent variables) are highly correlated.\n",
        "\n",
        "\n",
        "### iv.\tNo auto-correlation\n",
        "\n",
        "Also, it is assumed that there is little or no auto-correlation in the data. Autocorrelation occurs when the residual errors are not independent from each other.\n",
        "\n",
        "\n",
        "### v.\tHomoscedasticity\n",
        "\n",
        "Homoscedasticity describes a situation in which the error term (that is, the noise in the model) is the same across all values of the independent variables. It means the residuals are same across the regression line. It can be checked by looking at scatter plot.\n"
      ]
    },
    {
      "cell_type": "code",
      "source": [],
      "metadata": {
        "id": "BlHyWLe-g0P5"
      },
      "execution_count": null,
      "outputs": []
    }
  ],
  "metadata": {
    "kernelspec": {
      "display_name": "Python 3",
      "language": "python",
      "name": "python3"
    },
    "language_info": {
      "codemirror_mode": {
        "name": "ipython",
        "version": 3
      },
      "file_extension": ".py",
      "mimetype": "text/x-python",
      "name": "python",
      "nbconvert_exporter": "python",
      "pygments_lexer": "ipython3",
      "version": "3.6.5"
    },
    "colab": {
      "provenance": [],
      "collapsed_sections": [
        "T6m1cEgTbViI",
        "deLKkm6Walgd",
        "rBd6hMXJalgf",
        "zvU6YJd8algg",
        "B44NVv77algm",
        "U93vDFvKalgm",
        "nVMLmz9galgn",
        "oN8LzKkUalgo",
        "uPKeEUi_algp",
        "lHhKtr9Kalg0",
        "GGVkacNBalg1",
        "6-rMHOJoalg5",
        "jpJ04BqNalg5",
        "S4PoFv6Qalg7"
      ],
      "include_colab_link": true
    }
  },
  "nbformat": 4,
  "nbformat_minor": 0
}